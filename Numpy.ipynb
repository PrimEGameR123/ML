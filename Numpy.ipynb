{
 "cells": [
  {
   "attachments": {},
   "cell_type": "markdown",
   "id": "9f9a6182",
   "metadata": {},
   "source": [
    "<h2>What is NumPy?</h2><br>\n",
    "<font size=\"+1\"> NumPy is short for Numerical Python. NumPy is one of the most important foundational packages for Numerical computing  in Python. It was originally written by Travis Oliphant to be the foundation of a scientific computing environment in Python. NumPy matters so much because it provides the core multidimensional array object that is necessary for most tasks in scientific computing. <br>\n",
    "\n",
    "<b><U> Properties of NumPy </U></b><br><br>\n",
    "<li>ndarray, an efficient multidimensional array, which is used for providing fast array-oriented arithmetic<br><br>\n",
    "<li>NumPy has operations and flexible broadcasting capabilities.<br><br>\n",
    "<li>NumPy provides mathematical functions. These functions can be used for fast operations on entire arrays of data without having to write loops.<br><br>\n",
    "<li>NumPy provides Tools for reading/writing array data to disk and working with memory-mapped files.<br><br>\n",
    "<li>NumPy has Linear algebra, random number generation, and Fourier transform capabilities. <br><br>\n",
    "    \n",
    "We can install pandas in windows by<B> <br>>>> conda install numpy</B>"
   ]
  },
  {
   "attachments": {},
   "cell_type": "markdown",
   "id": "1345026a",
   "metadata": {},
   "source": [
    "<h3> import numpy like this"
   ]
  },
  {
   "cell_type": "code",
   "execution_count": 1,
   "id": "17c2f1f1",
   "metadata": {},
   "outputs": [],
   "source": [
    "import numpy as np"
   ]
  },
  {
   "attachments": {},
   "cell_type": "markdown",
   "id": "1c40e3e3",
   "metadata": {},
   "source": [
    "<h3> Why NumPy is important?? </h3><br>\n",
    "<font size=\"+1\"> Because it can perform complex computations on large arrays of data without the need for Python for loops. NumPy-based algorithms are generally 10 to 100 times faster (or more) than their pure Python counterparts and use significantly less memory.</font>"
   ]
  },
  {
   "cell_type": "code",
   "execution_count": 3,
   "id": "7c29bb05",
   "metadata": {},
   "outputs": [],
   "source": [
    "list1 = list(range(1000000))"
   ]
  },
  {
   "cell_type": "code",
   "execution_count": 4,
   "id": "7d70e3a2",
   "metadata": {},
   "outputs": [],
   "source": [
    "arr1 = np.arange(1000000)"
   ]
  },
  {
   "cell_type": "code",
   "execution_count": 15,
   "id": "31bcd6e0",
   "metadata": {},
   "outputs": [
    {
     "name": "stdout",
     "output_type": "stream",
     "text": [
      "CPU times: total: 15.6 ms\n",
      "Wall time: 18.1 ms\n"
     ]
    }
   ],
   "source": [
    "%time for _ in range(10): arr1 = arr1 * 2"
   ]
  },
  {
   "cell_type": "code",
   "execution_count": 16,
   "id": "2f189cce",
   "metadata": {},
   "outputs": [
    {
     "name": "stdout",
     "output_type": "stream",
     "text": [
      "CPU times: total: 922 ms\n",
      "Wall time: 1.02 s\n"
     ]
    }
   ],
   "source": [
    "%time for _ in range(10): list1 = [x * 2 for x in list1]"
   ]
  },
  {
   "attachments": {},
   "cell_type": "markdown",
   "id": "7e934796",
   "metadata": {},
   "source": [
    "<FONT SIZE = \"+0.5\"><B>CPU time </B>- the time actually spent by CPU executing method code. <br><br>\n",
    "<B>Wall time </B> - the real-world time elapsed between a pair of events, e.g. between method entry and method exit. "
   ]
  },
  {
   "attachments": {},
   "cell_type": "markdown",
   "id": "d0aa2206",
   "metadata": {},
   "source": [
    "<FONT SIZE = \"+1.5\"><B>N-Dimensional Array</B><BR><br>\n",
    "<li>ndarray is the main object on which the NumPy library is based on. <li>ndarray stands for N-dimensional array. It is a multidimensional homogeneous array with a predetermined number of items. <li>It is homogeneous because all the items in it are of the same type and the same size. <li>We can specify the data type by another NumPy object called dtype (data-type). <li>Each ndarray is associated with only one type of dtype."
   ]
  },
  {
   "cell_type": "code",
   "execution_count": 3,
   "id": "10e6f8f7",
   "metadata": {},
   "outputs": [],
   "source": [
    "a = np.array([1, 2, 35])"
   ]
  },
  {
   "cell_type": "code",
   "execution_count": 4,
   "id": "7183ac35",
   "metadata": {},
   "outputs": [
    {
     "data": {
      "text/plain": [
       "array([ 1,  2, 35])"
      ]
     },
     "execution_count": 4,
     "metadata": {},
     "output_type": "execute_result"
    }
   ],
   "source": [
    "a"
   ]
  },
  {
   "cell_type": "code",
   "execution_count": 4,
   "id": "df2f3ad6",
   "metadata": {},
   "outputs": [
    {
     "data": {
      "text/plain": [
       "numpy.ndarray"
      ]
     },
     "execution_count": 4,
     "metadata": {},
     "output_type": "execute_result"
    }
   ],
   "source": [
    "type(a)"
   ]
  },
  {
   "cell_type": "code",
   "execution_count": 5,
   "id": "2115e4dc",
   "metadata": {},
   "outputs": [
    {
     "data": {
      "text/plain": [
       "dtype('int32')"
      ]
     },
     "execution_count": 5,
     "metadata": {},
     "output_type": "execute_result"
    }
   ],
   "source": [
    "a.dtype"
   ]
  },
  {
   "cell_type": "code",
   "execution_count": 6,
   "id": "59cdd8fb",
   "metadata": {},
   "outputs": [
    {
     "data": {
      "text/plain": [
       "1"
      ]
     },
     "execution_count": 6,
     "metadata": {},
     "output_type": "execute_result"
    }
   ],
   "source": [
    "a.ndim"
   ]
  },
  {
   "cell_type": "code",
   "execution_count": 7,
   "id": "344e788a",
   "metadata": {},
   "outputs": [
    {
     "data": {
      "text/plain": [
       "3"
      ]
     },
     "execution_count": 7,
     "metadata": {},
     "output_type": "execute_result"
    }
   ],
   "source": [
    "a.size"
   ]
  },
  {
   "cell_type": "code",
   "execution_count": 5,
   "id": "a89ba9fd",
   "metadata": {},
   "outputs": [
    {
     "data": {
      "text/plain": [
       "4"
      ]
     },
     "execution_count": 5,
     "metadata": {},
     "output_type": "execute_result"
    }
   ],
   "source": [
    "# The attribute itemsize can be used with ndarray objects to determine the size \n",
    "## in bytes of each item in the array. \n",
    "## Another attribute data is the buffer containing the actual elements of the array.\n",
    "\n",
    "a.itemsize"
   ]
  },
  {
   "cell_type": "code",
   "execution_count": 37,
   "id": "8d95affd",
   "metadata": {},
   "outputs": [
    {
     "data": {
      "text/plain": [
       "<memory at 0x00000244DF9EF700>"
      ]
     },
     "execution_count": 37,
     "metadata": {},
     "output_type": "execute_result"
    }
   ],
   "source": [
    "a.data"
   ]
  },
  {
   "attachments": {},
   "cell_type": "markdown",
   "id": "af6818b2",
   "metadata": {},
   "source": [
    "<h3>ndarray shape</h3><br>\n",
    "<FONT SIZE = \"+0.5\">The number of dimensions and items in an array is defined by its shape. The shape is a tuple of N-positive integers that specifies the size for each dimension. The dimensions are defined as axes and the number of axes as rank."
   ]
  },
  {
   "cell_type": "code",
   "execution_count": 6,
   "id": "42f14982",
   "metadata": {},
   "outputs": [
    {
     "data": {
      "text/plain": [
       "(2, 4)"
      ]
     },
     "execution_count": 6,
     "metadata": {},
     "output_type": "execute_result"
    }
   ],
   "source": [
    "b = np.array([[1,2,3,4],[5,6,7,8]])\n",
    "b.shape"
   ]
  },
  {
   "cell_type": "code",
   "execution_count": 7,
   "id": "1c9a84ac",
   "metadata": {},
   "outputs": [
    {
     "data": {
      "text/plain": [
       "array([[1, 2, 3, 4],\n",
       "       [5, 6, 7, 8]])"
      ]
     },
     "execution_count": 7,
     "metadata": {},
     "output_type": "execute_result"
    }
   ],
   "source": [
    "b"
   ]
  },
  {
   "attachments": {},
   "cell_type": "markdown",
   "id": "13e16067",
   "metadata": {},
   "source": [
    "<FONT SIZE = \"+0.5\"> You can pass a list or sequence of lists and tuples or sequence of tuples as arguments to the array() function."
   ]
  },
  {
   "cell_type": "code",
   "execution_count": 8,
   "id": "53d8252b",
   "metadata": {},
   "outputs": [],
   "source": [
    "c = np.array(((1, 2, 3),(4, 5, 6)))"
   ]
  },
  {
   "cell_type": "code",
   "execution_count": 9,
   "id": "c2863f40",
   "metadata": {},
   "outputs": [
    {
     "data": {
      "text/plain": [
       "array([[1, 2, 3],\n",
       "       [4, 5, 6]])"
      ]
     },
     "execution_count": 9,
     "metadata": {},
     "output_type": "execute_result"
    }
   ],
   "source": [
    "c"
   ]
  },
  {
   "attachments": {},
   "cell_type": "markdown",
   "id": "dd8e120b",
   "metadata": {},
   "source": [
    "<FONT SIZE = \"+0.5\"> You can also use sequences of tuples and interconnected lists"
   ]
  },
  {
   "cell_type": "code",
   "execution_count": 10,
   "id": "7394f3b3",
   "metadata": {},
   "outputs": [],
   "source": [
    "d = np.array([(1, 2, 3), [4, 5, 6], (7, 8, 9)])"
   ]
  },
  {
   "cell_type": "code",
   "execution_count": 11,
   "id": "b7c98e47",
   "metadata": {},
   "outputs": [
    {
     "data": {
      "text/plain": [
       "array([[1, 2, 3],\n",
       "       [4, 5, 6],\n",
       "       [7, 8, 9]])"
      ]
     },
     "execution_count": 11,
     "metadata": {},
     "output_type": "execute_result"
    }
   ],
   "source": [
    "d"
   ]
  },
  {
   "attachments": {},
   "cell_type": "markdown",
   "id": "05e6ea73",
   "metadata": {},
   "source": [
    "<h3> Array Creating Functions</h3><br>\n",
    "<FONT SIZE = \"+0.5\">• The NumPy library provides a set of functions that generate ndarrays with initial content. <br><br>• The ndarray is created with different values depending on the function.<br><br>• Since NumPy is focused on numerical computing, the data type, if not specified, will in many cases be float64 (floating point)."
   ]
  },
  {
   "cell_type": "code",
   "execution_count": 20,
   "id": "b3439653",
   "metadata": {},
   "outputs": [
    {
     "data": {
      "text/plain": [
       "array([1. , 2. , 3.2])"
      ]
     },
     "execution_count": 20,
     "metadata": {},
     "output_type": "execute_result"
    }
   ],
   "source": [
    "e = np.array([1, 2, 3.2])\n",
    "e"
   ]
  },
  {
   "cell_type": "code",
   "execution_count": 22,
   "id": "0ee78d42",
   "metadata": {},
   "outputs": [
    {
     "data": {
      "text/plain": [
       "dtype('float64')"
      ]
     },
     "execution_count": 22,
     "metadata": {},
     "output_type": "execute_result"
    }
   ],
   "source": [
    "e.dtype"
   ]
  },
  {
   "attachments": {},
   "cell_type": "markdown",
   "id": "48e49397",
   "metadata": {},
   "source": [
    "<h3> zeros and ones function </h3><br>\n",
    "<font size = \"+0.5\">The zeros() function creates a full array of zeros. <br>\n",
    "The ones() function creates a full array of ones."
   ]
  },
  {
   "cell_type": "code",
   "execution_count": 27,
   "id": "6a7280cc",
   "metadata": {},
   "outputs": [
    {
     "data": {
      "text/plain": [
       "array([[0., 0.],\n",
       "       [0., 0.],\n",
       "       [0., 0.]])"
      ]
     },
     "execution_count": 27,
     "metadata": {},
     "output_type": "execute_result"
    }
   ],
   "source": [
    "np.zeros((3,2))"
   ]
  },
  {
   "cell_type": "code",
   "execution_count": 28,
   "id": "090ccb46",
   "metadata": {},
   "outputs": [
    {
     "data": {
      "text/plain": [
       "array([[1., 1., 1.],\n",
       "       [1., 1., 1.],\n",
       "       [1., 1., 1.]])"
      ]
     },
     "execution_count": 28,
     "metadata": {},
     "output_type": "execute_result"
    }
   ],
   "source": [
    "np.ones((3,3))"
   ]
  },
  {
   "attachments": {},
   "cell_type": "markdown",
   "id": "8d450ebe",
   "metadata": {},
   "source": [
    "<h3> arange() function </h3><br>\n",
    "<font size = \"+0.5\">You can use arange() function to generate NumPy arrays with numerical sequences. "
   ]
  },
  {
   "cell_type": "code",
   "execution_count": 29,
   "id": "91e241a0",
   "metadata": {},
   "outputs": [
    {
     "data": {
      "text/plain": [
       "array([0, 1, 2, 3, 4])"
      ]
     },
     "execution_count": 29,
     "metadata": {},
     "output_type": "execute_result"
    }
   ],
   "source": [
    "np.arange(5)"
   ]
  },
  {
   "cell_type": "code",
   "execution_count": 30,
   "id": "f565c4c7",
   "metadata": {},
   "outputs": [
    {
     "data": {
      "text/plain": [
       "array([4, 5, 6, 7, 8, 9])"
      ]
     },
     "execution_count": 30,
     "metadata": {},
     "output_type": "execute_result"
    }
   ],
   "source": [
    "np.arange(4, 10)"
   ]
  },
  {
   "cell_type": "code",
   "execution_count": 31,
   "id": "c065faa1",
   "metadata": {},
   "outputs": [
    {
     "data": {
      "text/plain": [
       "array([ 2,  5,  8, 11])"
      ]
     },
     "execution_count": 31,
     "metadata": {},
     "output_type": "execute_result"
    }
   ],
   "source": [
    "np.arange(2, 12, 3)"
   ]
  },
  {
   "attachments": {},
   "cell_type": "markdown",
   "id": "d3c93cdb",
   "metadata": {},
   "source": [
    "<font size = \"+0.5\"> To generate two-dimensional arrays we can still continue to use the arange() function but combined with the reshape() function."
   ]
  },
  {
   "cell_type": "code",
   "execution_count": 13,
   "id": "e626d751",
   "metadata": {},
   "outputs": [
    {
     "data": {
      "text/plain": [
       "array([ 1,  2,  3,  4,  5,  6,  7,  8,  9, 10, 11, 12])"
      ]
     },
     "execution_count": 13,
     "metadata": {},
     "output_type": "execute_result"
    }
   ],
   "source": [
    "np.arange(1,13)"
   ]
  },
  {
   "cell_type": "code",
   "execution_count": 33,
   "id": "a4750a25",
   "metadata": {},
   "outputs": [
    {
     "data": {
      "text/plain": [
       "array([[ 1,  2,  3,  4],\n",
       "       [ 5,  6,  7,  8],\n",
       "       [ 9, 10, 11, 12]])"
      ]
     },
     "execution_count": 33,
     "metadata": {},
     "output_type": "execute_result"
    }
   ],
   "source": [
    "f = np.arange(1, 13).reshape(3, 4)\n",
    "f"
   ]
  },
  {
   "cell_type": "code",
   "execution_count": 35,
   "id": "9a56cf12",
   "metadata": {},
   "outputs": [
    {
     "data": {
      "text/plain": [
       "(3, 4)"
      ]
     },
     "execution_count": 35,
     "metadata": {},
     "output_type": "execute_result"
    }
   ],
   "source": [
    "f.shape"
   ]
  },
  {
   "attachments": {},
   "cell_type": "markdown",
   "id": "6342ca20",
   "metadata": {},
   "source": [
    "<h3> linespace() function </h3><br>\n",
    "<font size = \"+0.5\">This function still takes as its first two arguments the initial and end values of the sequence, but the third argument, instead of specifying the distance between one element and the next, defines the number of elements into which we want the interval to be split. "
   ]
  },
  {
   "cell_type": "code",
   "execution_count": 29,
   "id": "4466df03",
   "metadata": {},
   "outputs": [
    {
     "data": {
      "text/plain": [
       "array([ 0. ,  2.5,  5. ,  7.5, 10. ])"
      ]
     },
     "execution_count": 29,
     "metadata": {},
     "output_type": "execute_result"
    }
   ],
   "source": [
    "np.linspace(0,10,5)"
   ]
  },
  {
   "attachments": {},
   "cell_type": "markdown",
   "id": "c820085e",
   "metadata": {},
   "source": [
    "<h3> random function </h3><br>\n",
    "<font size = \"+0.5\">You can use random() function of the numpy.random module to obtain arrays that are filled with random values between 0 and 1."
   ]
  },
  {
   "cell_type": "code",
   "execution_count": 34,
   "id": "bfbfa7b4",
   "metadata": {},
   "outputs": [
    {
     "data": {
      "text/plain": [
       "array([[0.92206526, 0.32835105],\n",
       "       [0.11742787, 0.44374948],\n",
       "       [0.4067664 , 0.38666626]])"
      ]
     },
     "execution_count": 34,
     "metadata": {},
     "output_type": "execute_result"
    }
   ],
   "source": [
    "np.random.random((3,2))"
   ]
  },
  {
   "attachments": {},
   "cell_type": "markdown",
   "id": "4bd58933",
   "metadata": {},
   "source": [
    "<h3> empty function </h3><br>\n",
    "<font size = \"+0.5\">Create new arrays by allocating new memory, but do not populate with any values like ones and zeros"
   ]
  },
  {
   "cell_type": "code",
   "execution_count": 39,
   "id": "55cc93fa",
   "metadata": {},
   "outputs": [
    {
     "data": {
      "text/plain": [
       "array([[1., 0., 2., 0., 3.],\n",
       "       [0., 4., 0., 5., 0.]])"
      ]
     },
     "execution_count": 39,
     "metadata": {},
     "output_type": "execute_result"
    }
   ],
   "source": [
    "np.empty((2,5))"
   ]
  },
  {
   "attachments": {},
   "cell_type": "markdown",
   "id": "af2ec6a2",
   "metadata": {},
   "source": [
    "<font size = \"+0.5\">In some cases np.empty will return an array of all zeros. In some other cases, it may return uninitialized “garbage” values."
   ]
  },
  {
   "attachments": {},
   "cell_type": "markdown",
   "id": "b9860f1c",
   "metadata": {},
   "source": [
    "<h3> eye function </h3><br>\n",
    "<font size = \"+0.5\">Create a square N x M identity matrix (1s on the diagonal and 0s elsewhere)"
   ]
  },
  {
   "cell_type": "code",
   "execution_count": 44,
   "id": "a1481d17",
   "metadata": {},
   "outputs": [
    {
     "data": {
      "text/plain": [
       "array([[1., 0.],\n",
       "       [0., 1.],\n",
       "       [0., 0.],\n",
       "       [0., 0.]])"
      ]
     },
     "execution_count": 44,
     "metadata": {},
     "output_type": "execute_result"
    }
   ],
   "source": [
    "np.eye(4,2)"
   ]
  },
  {
   "attachments": {},
   "cell_type": "markdown",
   "id": "6d5e01ae",
   "metadata": {},
   "source": [
    "<h3> Data tyes of ndarrays </h3><br>\n",
    "<font size = \"+0.5\">The data type or dtype is a special object containing the information (or metadata, data about data)."
   ]
  },
  {
   "cell_type": "code",
   "execution_count": 18,
   "id": "5be2f706",
   "metadata": {},
   "outputs": [
    {
     "data": {
      "text/plain": [
       "array([1., 2., 3.])"
      ]
     },
     "execution_count": 18,
     "metadata": {},
     "output_type": "execute_result"
    }
   ],
   "source": [
    "arr1 = np.array([1, 2, 3], dtype=np.float64)\n",
    "arr1"
   ]
  },
  {
   "cell_type": "code",
   "execution_count": 16,
   "id": "dbe28b3b",
   "metadata": {},
   "outputs": [
    {
     "data": {
      "text/plain": [
       "array([1, 2, 3])"
      ]
     },
     "execution_count": 16,
     "metadata": {},
     "output_type": "execute_result"
    }
   ],
   "source": [
    "arr2 = np.array([1.2, 2, 3], dtype=np.int32)\n",
    "arr2"
   ]
  },
  {
   "cell_type": "code",
   "execution_count": 56,
   "id": "09d618c8",
   "metadata": {},
   "outputs": [
    {
     "name": "stdout",
     "output_type": "stream",
     "text": [
      "float64\n",
      "int32\n"
     ]
    }
   ],
   "source": [
    "print(arr1.dtype, arr2.dtype, sep = '\\n')"
   ]
  },
  {
   "attachments": {},
   "cell_type": "markdown",
   "id": "caa9349b",
   "metadata": {},
   "source": [
    "<font size = \"+0.5\"> The numerical dtypes are named the same way: a type name, like float or int, followed by a number indicating the number of bits per element. <br>\n",
    "A standard double-precision floating-point value takes up 64 bits. Thus, this type is known in NumPy as float64.\n",
    "\n",
    "<font size = \"+0.5\"><br>NumPy arrays are designed to contain a wide variety of data types."
   ]
  },
  {
   "cell_type": "code",
   "execution_count": 57,
   "id": "836c0e77",
   "metadata": {},
   "outputs": [],
   "source": [
    "g = np.array([['a', 'b'],['c', 'd']])"
   ]
  },
  {
   "cell_type": "code",
   "execution_count": 63,
   "id": "bd84a508",
   "metadata": {},
   "outputs": [
    {
     "data": {
      "text/plain": [
       "dtype('<U1')"
      ]
     },
     "execution_count": 63,
     "metadata": {},
     "output_type": "execute_result"
    }
   ],
   "source": [
    "g.dtype"
   ]
  },
  {
   "cell_type": "code",
   "execution_count": 64,
   "id": "4ff5969a",
   "metadata": {},
   "outputs": [
    {
     "data": {
      "text/plain": [
       "'str32'"
      ]
     },
     "execution_count": 64,
     "metadata": {},
     "output_type": "execute_result"
    }
   ],
   "source": [
    "g.dtype.name"
   ]
  },
  {
   "attachments": {},
   "cell_type": "markdown",
   "id": "530b3dad",
   "metadata": {},
   "source": [
    "<font size =\"+0.5\"> We can explicitly define the dtype using the dtype option as an argument of the function."
   ]
  },
  {
   "cell_type": "code",
   "execution_count": 71,
   "id": "4eeea4af",
   "metadata": {},
   "outputs": [
    {
     "name": "stdout",
     "output_type": "stream",
     "text": [
      "[2.3 3.1 4.4 5.3] \n",
      " float64\n"
     ]
    }
   ],
   "source": [
    "h = np.array([2.3,3.1,4.4,5.3])\n",
    "print(h, '\\n', h.dtype)"
   ]
  },
  {
   "cell_type": "code",
   "execution_count": 70,
   "id": "131f0eda",
   "metadata": {},
   "outputs": [
    {
     "name": "stdout",
     "output_type": "stream",
     "text": [
      "[2 3 4 5] \n",
      " int32\n"
     ]
    }
   ],
   "source": [
    "i = np.array([2.3,3.1,4.4,5.3], dtype = 'int32')\n",
    "print(i, '\\n', i.dtype)"
   ]
  },
  {
   "cell_type": "code",
   "execution_count": 20,
   "id": "9e43b641",
   "metadata": {},
   "outputs": [],
   "source": [
    "arr3 = np.array([[1-5j, 2, 3],[4, 5, 6]], dtype=complex)"
   ]
  },
  {
   "cell_type": "code",
   "execution_count": 21,
   "id": "3153bc20",
   "metadata": {},
   "outputs": [
    {
     "data": {
      "text/plain": [
       "array([[1.-5.j, 2.+0.j, 3.+0.j],\n",
       "       [4.+0.j, 5.+0.j, 6.+0.j]])"
      ]
     },
     "execution_count": 21,
     "metadata": {},
     "output_type": "execute_result"
    }
   ],
   "source": [
    "arr3"
   ]
  },
  {
   "attachments": {},
   "cell_type": "markdown",
   "id": "f4e3628e",
   "metadata": {},
   "source": [
    "<h3> astype() function </h3><br>\n",
    "<font size = \"+0.5\">To explicitly convert an array from one dtype to another."
   ]
  },
  {
   "cell_type": "code",
   "execution_count": 17,
   "id": "7c68d667",
   "metadata": {},
   "outputs": [
    {
     "data": {
      "text/plain": [
       "dtype('int32')"
      ]
     },
     "execution_count": 17,
     "metadata": {},
     "output_type": "execute_result"
    }
   ],
   "source": [
    "arr4 = np.array([1, 2, 3, 4, 5])\n",
    "arr4.dtype"
   ]
  },
  {
   "cell_type": "code",
   "execution_count": 19,
   "id": "0774e192",
   "metadata": {},
   "outputs": [
    {
     "name": "stdout",
     "output_type": "stream",
     "text": [
      "[1. 2. 3. 4. 5.] \n",
      " float64\n"
     ]
    }
   ],
   "source": [
    "float_arr = arr4.astype('float64')\n",
    "print(float_arr, '\\n', float_arr.dtype)"
   ]
  },
  {
   "attachments": {},
   "cell_type": "markdown",
   "id": "a7e6442d",
   "metadata": {},
   "source": [
    "<h3> Airthmetic Operations"
   ]
  },
  {
   "cell_type": "code",
   "execution_count": 45,
   "id": "e5d1c6f1",
   "metadata": {},
   "outputs": [
    {
     "data": {
      "text/plain": [
       "array([0, 1, 2, 3, 4, 5])"
      ]
     },
     "execution_count": 45,
     "metadata": {},
     "output_type": "execute_result"
    }
   ],
   "source": [
    "arr5 = np.arange(6)\n",
    "arr5"
   ]
  },
  {
   "cell_type": "code",
   "execution_count": 88,
   "id": "4e041bbd",
   "metadata": {},
   "outputs": [
    {
     "data": {
      "text/plain": [
       "array([4, 5, 6, 7, 8, 9])"
      ]
     },
     "execution_count": 88,
     "metadata": {},
     "output_type": "execute_result"
    }
   ],
   "source": [
    "arr5 + 4"
   ]
  },
  {
   "cell_type": "code",
   "execution_count": 89,
   "id": "3c973b9d",
   "metadata": {},
   "outputs": [
    {
     "data": {
      "text/plain": [
       "array([-4, -3, -2, -1,  0,  1])"
      ]
     },
     "execution_count": 89,
     "metadata": {},
     "output_type": "execute_result"
    }
   ],
   "source": [
    "arr5 - 4"
   ]
  },
  {
   "cell_type": "code",
   "execution_count": 90,
   "id": "f50d52ca",
   "metadata": {},
   "outputs": [
    {
     "data": {
      "text/plain": [
       "array([ 0,  4,  8, 12, 16, 20])"
      ]
     },
     "execution_count": 90,
     "metadata": {},
     "output_type": "execute_result"
    }
   ],
   "source": [
    "arr5 * 4"
   ]
  },
  {
   "cell_type": "code",
   "execution_count": 91,
   "id": "60989a1a",
   "metadata": {},
   "outputs": [
    {
     "data": {
      "text/plain": [
       "array([0.  , 0.25, 0.5 , 0.75, 1.  , 1.25])"
      ]
     },
     "execution_count": 91,
     "metadata": {},
     "output_type": "execute_result"
    }
   ],
   "source": [
    "arr5 / 4"
   ]
  },
  {
   "cell_type": "code",
   "execution_count": 47,
   "id": "df4782e6",
   "metadata": {},
   "outputs": [
    {
     "data": {
      "text/plain": [
       "array([0, 1, 2, 3, 0, 1], dtype=int32)"
      ]
     },
     "execution_count": 47,
     "metadata": {},
     "output_type": "execute_result"
    }
   ],
   "source": [
    "arr5 % 4"
   ]
  },
  {
   "attachments": {},
   "cell_type": "markdown",
   "id": "28742467",
   "metadata": {},
   "source": [
    "<font size = \"+0.5\"> we can perform element wise operations on two arrays"
   ]
  },
  {
   "attachments": {
    "image-3.png": {
     "image/png": "[encoded data removed]"
    }
   },
   "cell_type": "markdown",
   "id": "4557e044",
   "metadata": {},
   "source": [
    "![image-3.png](attachment:image-3.png)"
   ]
  },
  {
   "cell_type": "code",
   "execution_count": 17,
   "id": "c95dab0d",
   "metadata": {},
   "outputs": [
    {
     "data": {
      "text/plain": [
       "array([4, 5, 6, 7, 8, 9])"
      ]
     },
     "execution_count": 17,
     "metadata": {},
     "output_type": "execute_result"
    }
   ],
   "source": [
    "arr6 = np.arange(4, 10) \n",
    "arr6"
   ]
  },
  {
   "cell_type": "code",
   "execution_count": 101,
   "id": "3b6d4c96",
   "metadata": {},
   "outputs": [
    {
     "data": {
      "text/plain": [
       "array([0, 1, 2, 3, 4, 5])"
      ]
     },
     "execution_count": 101,
     "metadata": {},
     "output_type": "execute_result"
    }
   ],
   "source": [
    "arr5"
   ]
  },
  {
   "cell_type": "code",
   "execution_count": 103,
   "id": "c9947f1f",
   "metadata": {},
   "outputs": [
    {
     "data": {
      "text/plain": [
       "array([ 4,  6,  8, 10, 12, 14])"
      ]
     },
     "execution_count": 103,
     "metadata": {},
     "output_type": "execute_result"
    }
   ],
   "source": [
    "arr5 + arr6"
   ]
  },
  {
   "cell_type": "code",
   "execution_count": 104,
   "id": "057b880f",
   "metadata": {},
   "outputs": [
    {
     "data": {
      "text/plain": [
       "array([-4, -4, -4, -4, -4, -4])"
      ]
     },
     "execution_count": 104,
     "metadata": {},
     "output_type": "execute_result"
    }
   ],
   "source": [
    "arr5 - arr6"
   ]
  },
  {
   "cell_type": "code",
   "execution_count": 105,
   "id": "ed206de8",
   "metadata": {},
   "outputs": [
    {
     "data": {
      "text/plain": [
       "array([ 0,  5, 12, 21, 32, 45])"
      ]
     },
     "execution_count": 105,
     "metadata": {},
     "output_type": "execute_result"
    }
   ],
   "source": [
    "arr5 * arr6"
   ]
  },
  {
   "cell_type": "code",
   "execution_count": 19,
   "id": "f334763c",
   "metadata": {
    "scrolled": true
   },
   "outputs": [
    {
     "data": {
      "text/plain": [
       "array([0.        , 0.2       , 0.33333333, 0.42857143, 0.5       ,\n",
       "       0.55555556])"
      ]
     },
     "execution_count": 19,
     "metadata": {},
     "output_type": "execute_result"
    }
   ],
   "source": [
    "arr5 / arr6"
   ]
  },
  {
   "attachments": {},
   "cell_type": "markdown",
   "id": "73232aee",
   "metadata": {},
   "source": [
    "<h3> Multidimensional"
   ]
  },
  {
   "cell_type": "code",
   "execution_count": 29,
   "id": "740d38f9",
   "metadata": {},
   "outputs": [
    {
     "data": {
      "text/plain": [
       "array([0, 1, 2, 3, 4, 5, 6, 7, 8])"
      ]
     },
     "execution_count": 29,
     "metadata": {},
     "output_type": "execute_result"
    }
   ],
   "source": [
    "arr7 = np.arange(0, 9)\n",
    "arr7"
   ]
  },
  {
   "cell_type": "code",
   "execution_count": 33,
   "id": "488f673e",
   "metadata": {},
   "outputs": [
    {
     "data": {
      "text/plain": [
       "array([[0, 1, 2],\n",
       "       [3, 4, 5],\n",
       "       [6, 7, 8]])"
      ]
     },
     "execution_count": 33,
     "metadata": {},
     "output_type": "execute_result"
    }
   ],
   "source": [
    "c = arr7.reshape((3,3))\n",
    "c"
   ]
  },
  {
   "cell_type": "code",
   "execution_count": 34,
   "id": "310da3b2",
   "metadata": {},
   "outputs": [
    {
     "data": {
      "text/plain": [
       "array([[1., 1., 1.],\n",
       "       [1., 1., 1.],\n",
       "       [1., 1., 1.]])"
      ]
     },
     "execution_count": 34,
     "metadata": {},
     "output_type": "execute_result"
    }
   ],
   "source": [
    "d = np.ones((3,3))\n",
    "d"
   ]
  },
  {
   "attachments": {},
   "cell_type": "markdown",
   "id": "ebb5e1f4",
   "metadata": {},
   "source": [
    "<h3> Matrix Product"
   ]
  },
  {
   "attachments": {},
   "cell_type": "markdown",
   "id": "512a5541",
   "metadata": {},
   "source": [
    "<font size = \"+0.5\"> In NumPy the matrix product is performed using dot() function. This operation is not element-wise."
   ]
  },
  {
   "cell_type": "code",
   "execution_count": 35,
   "id": "ee5330eb",
   "metadata": {},
   "outputs": [
    {
     "data": {
      "text/plain": [
       "array([[ 3.,  3.,  3.],\n",
       "       [12., 12., 12.],\n",
       "       [21., 21., 21.]])"
      ]
     },
     "execution_count": 35,
     "metadata": {},
     "output_type": "execute_result"
    }
   ],
   "source": [
    "np.dot(c, d) "
   ]
  },
  {
   "attachments": {
    "image.png": {
     "image/png": "[encoded data removed]"
    }
   },
   "cell_type": "markdown",
   "id": "49de4d73",
   "metadata": {},
   "source": [
    "![image.png](attachment:image.png)"
   ]
  },
  {
   "attachments": {},
   "cell_type": "markdown",
   "id": "c211c798",
   "metadata": {},
   "source": [
    "<font size = \"+0.5\"> An alternative way to write the matrix product is:"
   ]
  },
  {
   "cell_type": "code",
   "execution_count": 36,
   "id": "2b056438",
   "metadata": {},
   "outputs": [
    {
     "data": {
      "text/plain": [
       "array([[ 3.,  3.,  3.],\n",
       "       [12., 12., 12.],\n",
       "       [21., 21., 21.]])"
      ]
     },
     "execution_count": 36,
     "metadata": {},
     "output_type": "execute_result"
    }
   ],
   "source": [
    "c.dot(d)"
   ]
  },
  {
   "cell_type": "code",
   "execution_count": 2,
   "id": "273927ce",
   "metadata": {},
   "outputs": [
    {
     "data": {
      "text/plain": [
       "array([[1., 1.],\n",
       "       [1., 1.]])"
      ]
     },
     "execution_count": 2,
     "metadata": {},
     "output_type": "execute_result"
    }
   ],
   "source": [
    "a = np.ones(4).reshape(2,2)\n",
    "a"
   ]
  },
  {
   "cell_type": "code",
   "execution_count": 3,
   "id": "ffa01b4b",
   "metadata": {},
   "outputs": [
    {
     "data": {
      "text/plain": [
       "array([[3, 4],\n",
       "       [5, 6]])"
      ]
     },
     "execution_count": 3,
     "metadata": {},
     "output_type": "execute_result"
    }
   ],
   "source": [
    "b = np.arange(3,7).reshape(2,2)\n",
    "b"
   ]
  },
  {
   "cell_type": "code",
   "execution_count": 4,
   "id": "7dd6b282",
   "metadata": {},
   "outputs": [
    {
     "data": {
      "text/plain": [
       "array([[ 7.,  7.],\n",
       "       [11., 11.]])"
      ]
     },
     "execution_count": 4,
     "metadata": {},
     "output_type": "execute_result"
    }
   ],
   "source": [
    "b.dot(a)"
   ]
  },
  {
   "attachments": {},
   "cell_type": "markdown",
   "id": "e2856e44",
   "metadata": {},
   "source": [
    "<h3> Increment and Decrement Operator"
   ]
  },
  {
   "attachments": {},
   "cell_type": "markdown",
   "id": "2901b832",
   "metadata": {},
   "source": [
    "<font size = \"+0.5\"> You can use operators such as += and –="
   ]
  },
  {
   "cell_type": "code",
   "execution_count": 5,
   "id": "369e6557",
   "metadata": {},
   "outputs": [],
   "source": [
    "a += 3"
   ]
  },
  {
   "cell_type": "code",
   "execution_count": 6,
   "id": "7ed4c27d",
   "metadata": {},
   "outputs": [
    {
     "data": {
      "text/plain": [
       "array([[4., 4.],\n",
       "       [4., 4.]])"
      ]
     },
     "execution_count": 6,
     "metadata": {},
     "output_type": "execute_result"
    }
   ],
   "source": [
    "a"
   ]
  },
  {
   "cell_type": "code",
   "execution_count": 42,
   "id": "2c1a25cb",
   "metadata": {},
   "outputs": [],
   "source": [
    "d -=1"
   ]
  },
  {
   "cell_type": "code",
   "execution_count": 43,
   "id": "390f18e4",
   "metadata": {},
   "outputs": [
    {
     "data": {
      "text/plain": [
       "array([[2., 2., 2.],\n",
       "       [2., 2., 2.],\n",
       "       [2., 2., 2.]])"
      ]
     },
     "execution_count": 43,
     "metadata": {},
     "output_type": "execute_result"
    }
   ],
   "source": [
    "d"
   ]
  },
  {
   "cell_type": "code",
   "execution_count": 44,
   "id": "f0e07cd1",
   "metadata": {},
   "outputs": [],
   "source": [
    "d *=3"
   ]
  },
  {
   "cell_type": "code",
   "execution_count": 45,
   "id": "334b916b",
   "metadata": {},
   "outputs": [
    {
     "data": {
      "text/plain": [
       "array([[6., 6., 6.],\n",
       "       [6., 6., 6.],\n",
       "       [6., 6., 6.]])"
      ]
     },
     "execution_count": 45,
     "metadata": {},
     "output_type": "execute_result"
    }
   ],
   "source": [
    "d"
   ]
  },
  {
   "cell_type": "code",
   "execution_count": 46,
   "id": "169886ff",
   "metadata": {},
   "outputs": [],
   "source": [
    "d /= 2"
   ]
  },
  {
   "cell_type": "code",
   "execution_count": 47,
   "id": "c9addb43",
   "metadata": {},
   "outputs": [
    {
     "data": {
      "text/plain": [
       "array([[3., 3., 3.],\n",
       "       [3., 3., 3.],\n",
       "       [3., 3., 3.]])"
      ]
     },
     "execution_count": 47,
     "metadata": {},
     "output_type": "execute_result"
    }
   ],
   "source": [
    "d"
   ]
  },
  {
   "attachments": {},
   "cell_type": "markdown",
   "id": "ebee57c6",
   "metadata": {},
   "source": [
    "<h3> Universal Function (ufunc)"
   ]
  },
  {
   "attachments": {},
   "cell_type": "markdown",
   "id": "8ebfe664",
   "metadata": {},
   "source": [
    "<font size = \"+0.5\"> A universal function (ufunc), operates on an array in an element-by-element fashion.\n",
    "<br> Examples are sin(), log(), and sqrt()"
   ]
  },
  {
   "cell_type": "code",
   "execution_count": 70,
   "id": "d4f392c9",
   "metadata": {},
   "outputs": [
    {
     "data": {
      "text/plain": [
       "array([0.        , 0.52359878, 0.78539816, 1.04719755, 1.57079633])"
      ]
     },
     "execution_count": 70,
     "metadata": {},
     "output_type": "execute_result"
    }
   ],
   "source": [
    "f = np.array((0., 30., 45., 60., 90.)) *  np.pi / 180\n",
    "f"
   ]
  },
  {
   "cell_type": "code",
   "execution_count": 71,
   "id": "ee7a8a08",
   "metadata": {},
   "outputs": [
    {
     "data": {
      "text/plain": [
       "array([0.        , 0.5       , 0.70710678, 0.8660254 , 1.        ])"
      ]
     },
     "execution_count": 71,
     "metadata": {},
     "output_type": "execute_result"
    }
   ],
   "source": [
    "np.sin(f)"
   ]
  },
  {
   "cell_type": "code",
   "execution_count": 78,
   "id": "5bd7f5cb",
   "metadata": {},
   "outputs": [
    {
     "data": {
      "text/plain": [
       "array([1, 2, 3, 4])"
      ]
     },
     "execution_count": 78,
     "metadata": {},
     "output_type": "execute_result"
    }
   ],
   "source": [
    "g = np.arange(1,5)\n",
    "g"
   ]
  },
  {
   "cell_type": "code",
   "execution_count": 79,
   "id": "c31d0d6b",
   "metadata": {},
   "outputs": [
    {
     "data": {
      "text/plain": [
       "array([1.        , 1.41421356, 1.73205081, 2.        ])"
      ]
     },
     "execution_count": 79,
     "metadata": {},
     "output_type": "execute_result"
    }
   ],
   "source": [
    "np.sqrt(g)"
   ]
  },
  {
   "cell_type": "code",
   "execution_count": 99,
   "id": "e24f435b",
   "metadata": {},
   "outputs": [
    {
     "data": {
      "text/plain": [
       "[1, 2.718281828459045, 7.3890560989306495, 20.085536923187664]"
      ]
     },
     "execution_count": 99,
     "metadata": {},
     "output_type": "execute_result"
    }
   ],
   "source": [
    "h = [1, np.e, np.e**2, np.e**3]\n",
    "h"
   ]
  },
  {
   "cell_type": "code",
   "execution_count": 100,
   "id": "8fb61d9d",
   "metadata": {},
   "outputs": [
    {
     "data": {
      "text/plain": [
       "array([0., 1., 2., 3.])"
      ]
     },
     "execution_count": 100,
     "metadata": {},
     "output_type": "execute_result"
    }
   ],
   "source": [
    "np.log(h)"
   ]
  },
  {
   "cell_type": "code",
   "execution_count": 67,
   "id": "14782edc",
   "metadata": {},
   "outputs": [
    {
     "data": {
      "text/plain": [
       "array([3., 4.])"
      ]
     },
     "execution_count": 67,
     "metadata": {},
     "output_type": "execute_result"
    }
   ],
   "source": [
    "# for any base\n",
    "array = np.array([8, 16])  # = [2^3, 2^4]\n",
    "base = 2\n",
    "exponent = np.emath.logn(base, array) \n",
    "exponent"
   ]
  },
  {
   "cell_type": "code",
   "execution_count": 101,
   "id": "839bcca5",
   "metadata": {},
   "outputs": [
    {
     "data": {
      "text/plain": [
       "10"
      ]
     },
     "execution_count": 101,
     "metadata": {},
     "output_type": "execute_result"
    }
   ],
   "source": [
    "g.sum()"
   ]
  },
  {
   "cell_type": "code",
   "execution_count": 102,
   "id": "204e904f",
   "metadata": {},
   "outputs": [
    {
     "data": {
      "text/plain": [
       "2.5"
      ]
     },
     "execution_count": 102,
     "metadata": {},
     "output_type": "execute_result"
    }
   ],
   "source": [
    "g.mean()"
   ]
  },
  {
   "cell_type": "code",
   "execution_count": 103,
   "id": "7214de02",
   "metadata": {},
   "outputs": [
    {
     "data": {
      "text/plain": [
       "1"
      ]
     },
     "execution_count": 103,
     "metadata": {},
     "output_type": "execute_result"
    }
   ],
   "source": [
    "g.min()"
   ]
  },
  {
   "attachments": {},
   "cell_type": "markdown",
   "id": "82cf53c5",
   "metadata": {},
   "source": [
    "<h2> Indexes and Slices"
   ]
  },
  {
   "attachments": {},
   "cell_type": "markdown",
   "id": "60349c7a",
   "metadata": {},
   "source": [
    "<font size = \"+0.5\"> We will select elements through indexes and slices, in order to obtain the values contained in them or to make assignments in order to change their values.\n",
    "<br>For array indexing, we use square brackets [ ]."
   ]
  },
  {
   "attachments": {
    "image-3.png": {
     "image/png": "[encoded data removed]"
    }
   },
   "cell_type": "markdown",
   "id": "020f6d8a",
   "metadata": {},
   "source": [
    "![image-3.png](attachment:image-3.png)"
   ]
  },
  {
   "cell_type": "code",
   "execution_count": 106,
   "id": "60206705",
   "metadata": {},
   "outputs": [
    {
     "data": {
      "text/plain": [
       "array([10, 11, 12, 13, 14, 15])"
      ]
     },
     "execution_count": 106,
     "metadata": {},
     "output_type": "execute_result"
    }
   ],
   "source": [
    "a = np.arange(10, 16)\n",
    "a"
   ]
  },
  {
   "cell_type": "code",
   "execution_count": 107,
   "id": "0bcea532",
   "metadata": {},
   "outputs": [
    {
     "data": {
      "text/plain": [
       "14"
      ]
     },
     "execution_count": 107,
     "metadata": {},
     "output_type": "execute_result"
    }
   ],
   "source": [
    "a[4]"
   ]
  },
  {
   "cell_type": "code",
   "execution_count": 108,
   "id": "c82959ea",
   "metadata": {},
   "outputs": [
    {
     "data": {
      "text/plain": [
       "12"
      ]
     },
     "execution_count": 108,
     "metadata": {},
     "output_type": "execute_result"
    }
   ],
   "source": [
    "a[-4]"
   ]
  },
  {
   "cell_type": "code",
   "execution_count": 109,
   "id": "fa5b7b2b",
   "metadata": {},
   "outputs": [
    {
     "data": {
      "text/plain": [
       "array([11, 12, 15])"
      ]
     },
     "execution_count": 109,
     "metadata": {},
     "output_type": "execute_result"
    }
   ],
   "source": [
    "a[[1,2,5]]"
   ]
  },
  {
   "cell_type": "code",
   "execution_count": 110,
   "id": "ae1194e6",
   "metadata": {},
   "outputs": [
    {
     "data": {
      "text/plain": [
       "array([15, 14, 11])"
      ]
     },
     "execution_count": 110,
     "metadata": {},
     "output_type": "execute_result"
    }
   ],
   "source": [
    "a[[-1,-2,-5]]"
   ]
  },
  {
   "cell_type": "code",
   "execution_count": 111,
   "id": "97913f08",
   "metadata": {},
   "outputs": [
    {
     "data": {
      "text/plain": [
       "array([15, 12, 15])"
      ]
     },
     "execution_count": 111,
     "metadata": {},
     "output_type": "execute_result"
    }
   ],
   "source": [
    "a[[-1,2,5]]"
   ]
  },
  {
   "attachments": {},
   "cell_type": "markdown",
   "id": "981f39bc",
   "metadata": {},
   "source": [
    "<h3> Two Dimensional Array"
   ]
  },
  {
   "attachments": {},
   "cell_type": "markdown",
   "id": "11c20e5e",
   "metadata": {},
   "source": [
    "<font size = \"+0.5\"> The two-dimensional array, namely the matrices, are represented as rectangular arrays consisting of rows and columns.\n",
    "<br><br>They are defined by two axes, where axis 0 is represented by the rows and axis 1 is represented by the columns.\n",
    "<br> <b>array_object[row_index, col_index]"
   ]
  },
  {
   "attachments": {
    "image-2.png": {
     "image/png": "[encoded data removed]"
    }
   },
   "cell_type": "markdown",
   "id": "b8aae759",
   "metadata": {},
   "source": [
    "![image-2.png](attachment:image-2.png)"
   ]
  },
  {
   "cell_type": "code",
   "execution_count": 112,
   "id": "854deade",
   "metadata": {},
   "outputs": [],
   "source": [
    "A = np.arange(10, 19).reshape((3, 3))"
   ]
  },
  {
   "cell_type": "code",
   "execution_count": 113,
   "id": "55c9a6d6",
   "metadata": {
    "scrolled": true
   },
   "outputs": [
    {
     "data": {
      "text/plain": [
       "array([[10, 11, 12],\n",
       "       [13, 14, 15],\n",
       "       [16, 17, 18]])"
      ]
     },
     "execution_count": 113,
     "metadata": {},
     "output_type": "execute_result"
    }
   ],
   "source": [
    "A"
   ]
  },
  {
   "cell_type": "code",
   "execution_count": 114,
   "id": "7b00fa67",
   "metadata": {},
   "outputs": [
    {
     "data": {
      "text/plain": [
       "15"
      ]
     },
     "execution_count": 114,
     "metadata": {},
     "output_type": "execute_result"
    }
   ],
   "source": [
    "A[1, 2] "
   ]
  },
  {
   "cell_type": "code",
   "execution_count": 115,
   "id": "feabdaeb",
   "metadata": {},
   "outputs": [
    {
     "data": {
      "text/plain": [
       "array([13, 14, 15])"
      ]
     },
     "execution_count": 115,
     "metadata": {},
     "output_type": "execute_result"
    }
   ],
   "source": [
    "A[1]"
   ]
  },
  {
   "attachments": {},
   "cell_type": "markdown",
   "id": "4c7b4e4e",
   "metadata": {},
   "source": [
    "<h2> Slicing </h2><br>\n",
    "<font size = \"+0.5\"> Using Slicing, you can extract portions of an array to generate new arrays.\n",
    "<br> Python lists slices are copies whereas array slices are views on the original array."
   ]
  },
  {
   "cell_type": "code",
   "execution_count": 161,
   "id": "a9596f57",
   "metadata": {},
   "outputs": [
    {
     "data": {
      "text/plain": [
       "array([0, 1, 2, 3, 4, 5, 6, 7, 8, 9])"
      ]
     },
     "execution_count": 161,
     "metadata": {},
     "output_type": "execute_result"
    }
   ],
   "source": [
    "arr7 = np.arange(10)\n",
    "arr7"
   ]
  },
  {
   "cell_type": "code",
   "execution_count": 120,
   "id": "ca4ec5ab",
   "metadata": {},
   "outputs": [
    {
     "data": {
      "text/plain": [
       "5"
      ]
     },
     "execution_count": 120,
     "metadata": {},
     "output_type": "execute_result"
    }
   ],
   "source": [
    "arr7[5]"
   ]
  },
  {
   "cell_type": "code",
   "execution_count": 122,
   "id": "478dbc12",
   "metadata": {},
   "outputs": [
    {
     "data": {
      "text/plain": [
       "array([5, 6, 7])"
      ]
     },
     "execution_count": 122,
     "metadata": {},
     "output_type": "execute_result"
    }
   ],
   "source": [
    "arr7[5:8]"
   ]
  },
  {
   "attachments": {},
   "cell_type": "markdown",
   "id": "2ba1e5dd",
   "metadata": {},
   "source": [
    "<h3> Python Slicing vs Numpy Slicing </h3><br>\n",
    "<font size = \"+0.5\"> For example, if we create a slice of numpy arrays and then changes some value of that array slice, the mutation will be reflected in the original numpy array too."
   ]
  },
  {
   "cell_type": "code",
   "execution_count": 162,
   "id": "cc840360",
   "metadata": {},
   "outputs": [
    {
     "data": {
      "text/plain": [
       "array([0, 1, 2, 3, 4, 5, 6, 7, 8, 9])"
      ]
     },
     "execution_count": 162,
     "metadata": {},
     "output_type": "execute_result"
    }
   ],
   "source": [
    "arr7"
   ]
  },
  {
   "cell_type": "code",
   "execution_count": 163,
   "id": "bf763e1e",
   "metadata": {},
   "outputs": [],
   "source": [
    "arr_slice = arr7[5:8]"
   ]
  },
  {
   "cell_type": "code",
   "execution_count": 164,
   "id": "a404e03d",
   "metadata": {},
   "outputs": [
    {
     "data": {
      "text/plain": [
       "array([5, 6, 7])"
      ]
     },
     "execution_count": 164,
     "metadata": {},
     "output_type": "execute_result"
    }
   ],
   "source": [
    "arr_slice"
   ]
  },
  {
   "cell_type": "code",
   "execution_count": 165,
   "id": "b2dab692",
   "metadata": {},
   "outputs": [],
   "source": [
    "arr_slice[1] = 11"
   ]
  },
  {
   "cell_type": "code",
   "execution_count": 166,
   "id": "7a70918a",
   "metadata": {},
   "outputs": [
    {
     "data": {
      "text/plain": [
       "array([ 5, 11,  7])"
      ]
     },
     "execution_count": 166,
     "metadata": {},
     "output_type": "execute_result"
    }
   ],
   "source": [
    "arr_slice"
   ]
  },
  {
   "cell_type": "code",
   "execution_count": 167,
   "id": "0921c2e7",
   "metadata": {},
   "outputs": [
    {
     "data": {
      "text/plain": [
       "array([ 0,  1,  2,  3,  4,  5, 11,  7,  8,  9])"
      ]
     },
     "execution_count": 167,
     "metadata": {},
     "output_type": "execute_result"
    }
   ],
   "source": [
    "arr7"
   ]
  },
  {
   "attachments": {},
   "cell_type": "markdown",
   "id": "5b296a17",
   "metadata": {},
   "source": [
    "<font size = \"+0.5\"> That means when we slice the numpy array, we get a view of that portion, not a copy of array. To get a copy of array instead of view, we can use this"
   ]
  },
  {
   "cell_type": "code",
   "execution_count": 197,
   "id": "035b3d7d",
   "metadata": {},
   "outputs": [
    {
     "data": {
      "text/plain": [
       "array([ 5, 11,  7])"
      ]
     },
     "execution_count": 197,
     "metadata": {},
     "output_type": "execute_result"
    }
   ],
   "source": [
    "arr7[5:8].copy()"
   ]
  },
  {
   "attachments": {},
   "cell_type": "markdown",
   "id": "fd3f80da",
   "metadata": {},
   "source": [
    "<font size = \"+0.5\"> Now if the same thing is done with python builtin list, then the mutation will not be reflected in the original list."
   ]
  },
  {
   "cell_type": "code",
   "execution_count": 168,
   "id": "f1acc736",
   "metadata": {},
   "outputs": [],
   "source": [
    "c = list(range(10))"
   ]
  },
  {
   "cell_type": "code",
   "execution_count": 169,
   "id": "1ce231be",
   "metadata": {},
   "outputs": [
    {
     "data": {
      "text/plain": [
       "[0, 1, 2, 3, 4, 5, 6, 7, 8, 9]"
      ]
     },
     "execution_count": 169,
     "metadata": {},
     "output_type": "execute_result"
    }
   ],
   "source": [
    "c"
   ]
  },
  {
   "cell_type": "code",
   "execution_count": 170,
   "id": "71e70c62",
   "metadata": {},
   "outputs": [],
   "source": [
    "d = c[2:4]"
   ]
  },
  {
   "cell_type": "code",
   "execution_count": 171,
   "id": "797b65bb",
   "metadata": {
    "scrolled": true
   },
   "outputs": [
    {
     "data": {
      "text/plain": [
       "[2, 3]"
      ]
     },
     "execution_count": 171,
     "metadata": {},
     "output_type": "execute_result"
    }
   ],
   "source": [
    "d"
   ]
  },
  {
   "cell_type": "code",
   "execution_count": 172,
   "id": "bf60054d",
   "metadata": {},
   "outputs": [],
   "source": [
    "d[1] = 22"
   ]
  },
  {
   "cell_type": "code",
   "execution_count": 173,
   "id": "3ab42c67",
   "metadata": {},
   "outputs": [
    {
     "data": {
      "text/plain": [
       "[2, 22]"
      ]
     },
     "execution_count": 173,
     "metadata": {},
     "output_type": "execute_result"
    }
   ],
   "source": [
    "d"
   ]
  },
  {
   "cell_type": "code",
   "execution_count": 174,
   "id": "2ef52565",
   "metadata": {},
   "outputs": [
    {
     "data": {
      "text/plain": [
       "[0, 1, 2, 3, 4, 5, 6, 7, 8, 9]"
      ]
     },
     "execution_count": 174,
     "metadata": {},
     "output_type": "execute_result"
    }
   ],
   "source": [
    "c"
   ]
  },
  {
   "attachments": {},
   "cell_type": "markdown",
   "id": "576cea17",
   "metadata": {},
   "source": [
    "<h3> Skipping Items </h3>"
   ]
  },
  {
   "cell_type": "code",
   "execution_count": 176,
   "id": "8239ab9b",
   "metadata": {},
   "outputs": [
    {
     "data": {
      "text/plain": [
       "array([10, 11, 12, 13, 14, 15])"
      ]
     },
     "execution_count": 176,
     "metadata": {},
     "output_type": "execute_result"
    }
   ],
   "source": [
    "a = np.arange(10,16)\n",
    "a"
   ]
  },
  {
   "cell_type": "code",
   "execution_count": 177,
   "id": "b514a741",
   "metadata": {},
   "outputs": [
    {
     "data": {
      "text/plain": [
       "array([12, 14])"
      ]
     },
     "execution_count": 177,
     "metadata": {},
     "output_type": "execute_result"
    }
   ],
   "source": [
    "a[2:5:2]"
   ]
  },
  {
   "attachments": {},
   "cell_type": "markdown",
   "id": "b2a5cfc3",
   "metadata": {},
   "source": [
    "<font size = \"+0.5\">[ __ : __ : __ ]\n",
    "<br>1. If the first number is omitted, NumPy implicitly interprets this number as 0 (i.e., the initial element of the array)<br>2. If you omit the second number, this will be interpreted as the maximum index of the array.<br>\n",
    "3. If you omit the last number this will be interpreted as 1. All the elements will be considered without intervals."
   ]
  },
  {
   "cell_type": "code",
   "execution_count": 178,
   "id": "5b228b66",
   "metadata": {},
   "outputs": [
    {
     "data": {
      "text/plain": [
       "array([10, 12, 14])"
      ]
     },
     "execution_count": 178,
     "metadata": {},
     "output_type": "execute_result"
    }
   ],
   "source": [
    "a[::2]"
   ]
  },
  {
   "cell_type": "code",
   "execution_count": 179,
   "id": "b3d1cdc6",
   "metadata": {},
   "outputs": [
    {
     "data": {
      "text/plain": [
       "array([10, 11, 12])"
      ]
     },
     "execution_count": 179,
     "metadata": {},
     "output_type": "execute_result"
    }
   ],
   "source": [
    "a[:3:]"
   ]
  },
  {
   "cell_type": "code",
   "execution_count": 181,
   "id": "b1ea4682",
   "metadata": {},
   "outputs": [
    {
     "data": {
      "text/plain": [
       "array([14, 15])"
      ]
     },
     "execution_count": 181,
     "metadata": {},
     "output_type": "execute_result"
    }
   ],
   "source": [
    "a[-2::]"
   ]
  },
  {
   "cell_type": "code",
   "execution_count": 195,
   "id": "792f982e",
   "metadata": {},
   "outputs": [],
   "source": [
    "arr3 = np.array([\n",
    "    [\n",
    "    [1,2,3],\n",
    "    [4,5,6]\n",
    "    ],\n",
    "    [\n",
    "        [7,8,9],\n",
    "        [10,11,12]\n",
    "    ]\n",
    "]) "
   ]
  },
  {
   "cell_type": "code",
   "execution_count": 196,
   "id": "76402b97",
   "metadata": {},
   "outputs": [
    {
     "data": {
      "text/plain": [
       "array([[[ 1,  2,  3],\n",
       "        [ 4,  5,  6]],\n",
       "\n",
       "       [[ 7,  8,  9],\n",
       "        [10, 11, 12]]])"
      ]
     },
     "execution_count": 196,
     "metadata": {},
     "output_type": "execute_result"
    }
   ],
   "source": [
    "arr3"
   ]
  },
  {
   "attachments": {},
   "cell_type": "markdown",
   "id": "ab4dfe60",
   "metadata": {},
   "source": [
    "<h3> Multi-Dimensional Array </h3> <br>\n",
    "<font size = \"+0.5\"> In multidimensional arrays, if you omit later indices, the returned object will be a lower dimensional ndarray consisting of all the data along the higher dimensions. <br>\n",
    "    So in the 2 × 2 × 3 array :"
   ]
  },
  {
   "cell_type": "code",
   "execution_count": 7,
   "id": "6c008926",
   "metadata": {},
   "outputs": [],
   "source": [
    "arr9 = np.array([[[1,2,3],[4,5,6]],[[7,8,9],[10,11,12]]])  "
   ]
  },
  {
   "cell_type": "code",
   "execution_count": 21,
   "id": "bd9bb743",
   "metadata": {},
   "outputs": [
    {
     "data": {
      "text/plain": [
       "array([[[ 1,  2,  3],\n",
       "        [ 4,  5,  6]],\n",
       "\n",
       "       [[ 7,  8,  9],\n",
       "        [10, 11, 12]]])"
      ]
     },
     "execution_count": 21,
     "metadata": {},
     "output_type": "execute_result"
    }
   ],
   "source": [
    "arr9"
   ]
  },
  {
   "cell_type": "code",
   "execution_count": 271,
   "id": "549dc450",
   "metadata": {},
   "outputs": [
    {
     "data": {
      "text/plain": [
       "array([[1, 2, 3],\n",
       "       [4, 5, 6]])"
      ]
     },
     "execution_count": 271,
     "metadata": {},
     "output_type": "execute_result"
    }
   ],
   "source": [
    "# arr9[0] is a 2x3 array.\n",
    "arr9[0]"
   ]
  },
  {
   "cell_type": "code",
   "execution_count": 203,
   "id": "9e7c8148",
   "metadata": {},
   "outputs": [
    {
     "data": {
      "text/plain": [
       "array([1, 2, 3])"
      ]
     },
     "execution_count": 203,
     "metadata": {},
     "output_type": "execute_result"
    }
   ],
   "source": [
    "arr9[0,0]"
   ]
  },
  {
   "cell_type": "code",
   "execution_count": 204,
   "id": "3c04a550",
   "metadata": {},
   "outputs": [
    {
     "data": {
      "text/plain": [
       "1"
      ]
     },
     "execution_count": 204,
     "metadata": {},
     "output_type": "execute_result"
    }
   ],
   "source": [
    "arr9[0,0,0]"
   ]
  },
  {
   "attachments": {},
   "cell_type": "markdown",
   "id": "b33c3e82",
   "metadata": {},
   "source": [
    "<h3> Boolean Indexing"
   ]
  },
  {
   "cell_type": "code",
   "execution_count": 210,
   "id": "7fab9850",
   "metadata": {},
   "outputs": [
    {
     "data": {
      "text/plain": [
       "array([21, 22, 23, 24, 25, 26])"
      ]
     },
     "execution_count": 210,
     "metadata": {},
     "output_type": "execute_result"
    }
   ],
   "source": [
    "Age = np.array(range(21,27))\n",
    "Age"
   ]
  },
  {
   "cell_type": "code",
   "execution_count": 268,
   "id": "5a510661",
   "metadata": {},
   "outputs": [],
   "source": [
    "boolean_array = np.array([ True, False, False, False, False,  True])"
   ]
  },
  {
   "attachments": {},
   "cell_type": "markdown",
   "id": "4ad947ab",
   "metadata": {},
   "source": [
    "this is a boolean array"
   ]
  },
  {
   "cell_type": "code",
   "execution_count": 269,
   "id": "a4326477",
   "metadata": {},
   "outputs": [
    {
     "data": {
      "text/plain": [
       "array([21, 26])"
      ]
     },
     "execution_count": 269,
     "metadata": {},
     "output_type": "execute_result"
    }
   ],
   "source": [
    "Age[boolean_array]"
   ]
  },
  {
   "attachments": {},
   "cell_type": "markdown",
   "id": "9e314ccf",
   "metadata": {},
   "source": [
    "The Boolean array must be of the same length as the array axis it’s indexing. "
   ]
  },
  {
   "attachments": {},
   "cell_type": "markdown",
   "id": "7cdac4c0",
   "metadata": {},
   "source": [
    "<font size = \"+1\"> Objective - select all the values that are less than 0.5 in a 4x4 matrix containing random numbers between 0 and 1"
   ]
  },
  {
   "cell_type": "code",
   "execution_count": 218,
   "id": "2be1acf9",
   "metadata": {},
   "outputs": [],
   "source": [
    "data2 = np.random.random((4, 4))"
   ]
  },
  {
   "cell_type": "code",
   "execution_count": 219,
   "id": "c75fac67",
   "metadata": {},
   "outputs": [
    {
     "data": {
      "text/plain": [
       "array([[0.57187792, 0.15431907, 0.6707012 , 0.1787942 ],\n",
       "       [0.51486072, 0.23478431, 0.33434713, 0.11485414],\n",
       "       [0.37558374, 0.47432745, 0.62963693, 0.82490873],\n",
       "       [0.05333242, 0.50675639, 0.91619912, 0.09691446]])"
      ]
     },
     "execution_count": 219,
     "metadata": {},
     "output_type": "execute_result"
    }
   ],
   "source": [
    "data2"
   ]
  },
  {
   "cell_type": "code",
   "execution_count": 220,
   "id": "9e2b0783",
   "metadata": {},
   "outputs": [
    {
     "data": {
      "text/plain": [
       "array([[False,  True, False,  True],\n",
       "       [False,  True,  True,  True],\n",
       "       [ True,  True, False, False],\n",
       "       [ True, False, False,  True]])"
      ]
     },
     "execution_count": 220,
     "metadata": {},
     "output_type": "execute_result"
    }
   ],
   "source": [
    "data2 < 0.5"
   ]
  },
  {
   "cell_type": "code",
   "execution_count": 221,
   "id": "f286087a",
   "metadata": {},
   "outputs": [
    {
     "data": {
      "text/plain": [
       "array([0.15431907, 0.1787942 , 0.23478431, 0.33434713, 0.11485414,\n",
       "       0.37558374, 0.47432745, 0.05333242, 0.09691446])"
      ]
     },
     "execution_count": 221,
     "metadata": {},
     "output_type": "execute_result"
    }
   ],
   "source": [
    "data2[data2 < 0.5]"
   ]
  },
  {
   "attachments": {},
   "cell_type": "markdown",
   "id": "935a605c",
   "metadata": {},
   "source": [
    "<h2> reshape and shape </h2><br>\n",
    "<font size = \"+0.5\"> We have seen that we can convert a one-dimensional array into a matrix by using reshape() function"
   ]
  },
  {
   "cell_type": "code",
   "execution_count": 22,
   "id": "1b7fd1c2",
   "metadata": {},
   "outputs": [],
   "source": [
    "arr10 = np.random.random(12)"
   ]
  },
  {
   "cell_type": "code",
   "execution_count": 23,
   "id": "c6b4a837",
   "metadata": {},
   "outputs": [
    {
     "data": {
      "text/plain": [
       "array([0.74243513, 0.60934459, 0.84726022, 0.62915412, 0.66169224,\n",
       "       0.36645884, 0.56901849, 0.26593536, 0.84762628, 0.82628102,\n",
       "       0.01439573, 0.63324158])"
      ]
     },
     "execution_count": 23,
     "metadata": {},
     "output_type": "execute_result"
    }
   ],
   "source": [
    "arr10"
   ]
  },
  {
   "cell_type": "code",
   "execution_count": 276,
   "id": "775fd23d",
   "metadata": {},
   "outputs": [
    {
     "data": {
      "text/plain": [
       "array([[0.17211758, 0.28299051, 0.37802676, 0.26970801],\n",
       "       [0.73274583, 0.87126377, 0.01969862, 0.98693887],\n",
       "       [0.33821539, 0.74089917, 0.88831184, 0.77075658]])"
      ]
     },
     "execution_count": 276,
     "metadata": {},
     "output_type": "execute_result"
    }
   ],
   "source": [
    "arr11 = arr10.reshape(3,4)\n",
    "arr11"
   ]
  },
  {
   "attachments": {},
   "cell_type": "markdown",
   "id": "403acadb",
   "metadata": {},
   "source": [
    "The reshape() function returns a new array and can therefore create new objects."
   ]
  },
  {
   "attachments": {},
   "cell_type": "markdown",
   "id": "2b661530",
   "metadata": {},
   "source": [
    "To modify the same object by modifying the shape, you can assign a tuple that contains the new dimensions to its shape attribute."
   ]
  },
  {
   "cell_type": "code",
   "execution_count": 24,
   "id": "36f9dc0c",
   "metadata": {},
   "outputs": [
    {
     "data": {
      "text/plain": [
       "(12,)"
      ]
     },
     "execution_count": 24,
     "metadata": {},
     "output_type": "execute_result"
    }
   ],
   "source": [
    "arr10.shape"
   ]
  },
  {
   "cell_type": "code",
   "execution_count": 26,
   "id": "a226d8b1",
   "metadata": {},
   "outputs": [],
   "source": [
    "arr10.shape = (3,4)"
   ]
  },
  {
   "cell_type": "code",
   "execution_count": 27,
   "id": "e972cc27",
   "metadata": {},
   "outputs": [
    {
     "data": {
      "text/plain": [
       "array([[0.74243513, 0.60934459, 0.84726022, 0.62915412],\n",
       "       [0.66169224, 0.36645884, 0.56901849, 0.26593536],\n",
       "       [0.84762628, 0.82628102, 0.01439573, 0.63324158]])"
      ]
     },
     "execution_count": 27,
     "metadata": {},
     "output_type": "execute_result"
    }
   ],
   "source": [
    "arr10"
   ]
  },
  {
   "attachments": {},
   "cell_type": "markdown",
   "id": "6d4bdf01",
   "metadata": {},
   "source": [
    "<h2> ravel() </h2>\n",
    "<font size = \"+1\">You can convert a n-dimensional array into a one-dimensional array, by using the ravel() function. It returns the reference of original array."
   ]
  },
  {
   "cell_type": "code",
   "execution_count": 279,
   "id": "4852ad97",
   "metadata": {},
   "outputs": [],
   "source": [
    "arr2=arr10.ravel()"
   ]
  },
  {
   "cell_type": "code",
   "execution_count": 280,
   "id": "f26244e2",
   "metadata": {},
   "outputs": [
    {
     "data": {
      "text/plain": [
       "array([0.17211758, 0.28299051, 0.37802676, 0.26970801, 0.73274583,\n",
       "       0.87126377, 0.01969862, 0.98693887, 0.33821539, 0.74089917,\n",
       "       0.88831184, 0.77075658])"
      ]
     },
     "execution_count": 280,
     "metadata": {},
     "output_type": "execute_result"
    }
   ],
   "source": [
    "arr2"
   ]
  },
  {
   "cell_type": "code",
   "execution_count": 281,
   "id": "6a9cfc12",
   "metadata": {},
   "outputs": [],
   "source": [
    "arr2[1] = 1"
   ]
  },
  {
   "cell_type": "code",
   "execution_count": 282,
   "id": "55349c76",
   "metadata": {},
   "outputs": [
    {
     "data": {
      "text/plain": [
       "array([0.17211758, 1.        , 0.37802676, 0.26970801, 0.73274583,\n",
       "       0.87126377, 0.01969862, 0.98693887, 0.33821539, 0.74089917,\n",
       "       0.88831184, 0.77075658])"
      ]
     },
     "execution_count": 282,
     "metadata": {},
     "output_type": "execute_result"
    }
   ],
   "source": [
    "arr2"
   ]
  },
  {
   "cell_type": "code",
   "execution_count": 283,
   "id": "15b82237",
   "metadata": {},
   "outputs": [
    {
     "data": {
      "text/plain": [
       "array([[0.17211758, 1.        , 0.37802676, 0.26970801],\n",
       "       [0.73274583, 0.87126377, 0.01969862, 0.98693887],\n",
       "       [0.33821539, 0.74089917, 0.88831184, 0.77075658]])"
      ]
     },
     "execution_count": 283,
     "metadata": {},
     "output_type": "execute_result"
    }
   ],
   "source": [
    "arr10"
   ]
  },
  {
   "attachments": {},
   "cell_type": "markdown",
   "id": "81a25ecf",
   "metadata": {},
   "source": [
    "<h2> flatten() </h2>\n",
    "<font size = \"+1\">You can convert a n-dimensional array into a one-dimensional array, by using the flatten() function. It returns the copy of the original array."
   ]
  },
  {
   "cell_type": "code",
   "execution_count": 286,
   "id": "f9dc5166",
   "metadata": {},
   "outputs": [],
   "source": [
    "arr10 = np.random.random(12).reshape(3,4)"
   ]
  },
  {
   "cell_type": "code",
   "execution_count": 287,
   "id": "9c91eda3",
   "metadata": {},
   "outputs": [
    {
     "data": {
      "text/plain": [
       "array([[0.53924492, 0.5008211 , 0.32937767, 0.60700069],\n",
       "       [0.27628553, 0.79118862, 0.9333636 , 0.63278268],\n",
       "       [0.66873881, 0.64544629, 0.18711838, 0.60080691]])"
      ]
     },
     "execution_count": 287,
     "metadata": {},
     "output_type": "execute_result"
    }
   ],
   "source": [
    "arr10"
   ]
  },
  {
   "cell_type": "code",
   "execution_count": 288,
   "id": "17041240",
   "metadata": {},
   "outputs": [
    {
     "data": {
      "text/plain": [
       "(3, 4)"
      ]
     },
     "execution_count": 288,
     "metadata": {},
     "output_type": "execute_result"
    }
   ],
   "source": [
    "arr10.shape"
   ]
  },
  {
   "cell_type": "code",
   "execution_count": 289,
   "id": "dbf2022f",
   "metadata": {},
   "outputs": [],
   "source": [
    "arr2 = arr10.flatten()"
   ]
  },
  {
   "cell_type": "code",
   "execution_count": 290,
   "id": "7c880e4e",
   "metadata": {},
   "outputs": [
    {
     "data": {
      "text/plain": [
       "array([0.53924492, 0.5008211 , 0.32937767, 0.60700069, 0.27628553,\n",
       "       0.79118862, 0.9333636 , 0.63278268, 0.66873881, 0.64544629,\n",
       "       0.18711838, 0.60080691])"
      ]
     },
     "execution_count": 290,
     "metadata": {},
     "output_type": "execute_result"
    }
   ],
   "source": [
    "arr2"
   ]
  },
  {
   "cell_type": "code",
   "execution_count": 292,
   "id": "7efe815a",
   "metadata": {},
   "outputs": [
    {
     "data": {
      "text/plain": [
       "(12,)"
      ]
     },
     "execution_count": 292,
     "metadata": {},
     "output_type": "execute_result"
    }
   ],
   "source": [
    "arr2.shape"
   ]
  },
  {
   "cell_type": "code",
   "execution_count": 293,
   "id": "6a0034d9",
   "metadata": {},
   "outputs": [],
   "source": [
    "arr2[1] = 1"
   ]
  },
  {
   "cell_type": "code",
   "execution_count": 294,
   "id": "1c24bb9a",
   "metadata": {},
   "outputs": [
    {
     "data": {
      "text/plain": [
       "array([0.53924492, 1.        , 0.32937767, 0.60700069, 0.27628553,\n",
       "       0.79118862, 0.9333636 , 0.63278268, 0.66873881, 0.64544629,\n",
       "       0.18711838, 0.60080691])"
      ]
     },
     "execution_count": 294,
     "metadata": {},
     "output_type": "execute_result"
    }
   ],
   "source": [
    "arr2"
   ]
  },
  {
   "cell_type": "code",
   "execution_count": 295,
   "id": "3ba9afe7",
   "metadata": {},
   "outputs": [
    {
     "data": {
      "text/plain": [
       "array([[0.53924492, 0.5008211 , 0.32937767, 0.60700069],\n",
       "       [0.27628553, 0.79118862, 0.9333636 , 0.63278268],\n",
       "       [0.66873881, 0.64544629, 0.18711838, 0.60080691]])"
      ]
     },
     "execution_count": 295,
     "metadata": {},
     "output_type": "execute_result"
    }
   ],
   "source": [
    "arr10"
   ]
  },
  {
   "attachments": {
    "image-3.png": {
     "image/png": "[encoded data removed]"
    }
   },
   "cell_type": "markdown",
   "id": "28eeab49",
   "metadata": {},
   "source": [
    "![image-3.png](attachment:image-3.png)"
   ]
  },
  {
   "attachments": {},
   "cell_type": "markdown",
   "id": "98a80ef3",
   "metadata": {},
   "source": [
    "<b><h3> Reshape vs Resize"
   ]
  },
  {
   "cell_type": "code",
   "execution_count": 68,
   "id": "ecabb38b",
   "metadata": {},
   "outputs": [
    {
     "name": "stdout",
     "output_type": "stream",
     "text": [
      "Original array:\n"
     ]
    },
    {
     "data": {
      "text/plain": [
       "array([1, 2, 3, 4, 5, 6])"
      ]
     },
     "metadata": {},
     "output_type": "display_data"
    },
    {
     "name": "stdout",
     "output_type": "stream",
     "text": [
      "Changed array\n"
     ]
    },
    {
     "data": {
      "text/plain": [
       "array([[1, 2, 3],\n",
       "       [4, 5, 6]])"
      ]
     },
     "metadata": {},
     "output_type": "display_data"
    },
    {
     "name": "stdout",
     "output_type": "stream",
     "text": [
      "Original array:\n"
     ]
    },
    {
     "data": {
      "text/plain": [
       "array([1, 2, 3, 4, 5, 6])"
      ]
     },
     "metadata": {},
     "output_type": "display_data"
    }
   ],
   "source": [
    "# importing the module\n",
    "import numpy as np\n",
    "\t\n",
    "# creating an array\n",
    "g = np.array([1, 2, 3, 4, 5, 6])\n",
    "print(\"Original array:\")\n",
    "display(g)\n",
    "\n",
    "# using reshape()\n",
    "print(\"Changed array\")\n",
    "display(g.reshape((2, 3)))\n",
    "\t\n",
    "print(\"Original array:\")\n",
    "display(g)"
   ]
  },
  {
   "cell_type": "code",
   "execution_count": 69,
   "id": "8ac02ebe",
   "metadata": {},
   "outputs": [
    {
     "name": "stdout",
     "output_type": "stream",
     "text": [
      "Original array:\n"
     ]
    },
    {
     "data": {
      "text/plain": [
       "array([ 1,  2,  3,  4,  5,  6,  7,  8,  9, 10, 11, 12])"
      ]
     },
     "metadata": {},
     "output_type": "display_data"
    },
    {
     "name": "stdout",
     "output_type": "stream",
     "text": [
      "Changed array\n"
     ]
    },
    {
     "data": {
      "text/plain": [
       "None"
      ]
     },
     "metadata": {},
     "output_type": "display_data"
    },
    {
     "name": "stdout",
     "output_type": "stream",
     "text": [
      "Original array:\n"
     ]
    },
    {
     "data": {
      "text/plain": [
       "array([[ 1,  2],\n",
       "       [ 3,  4],\n",
       "       [ 5,  6],\n",
       "       [ 7,  8],\n",
       "       [ 9, 10],\n",
       "       [11, 12]])"
      ]
     },
     "metadata": {},
     "output_type": "display_data"
    }
   ],
   "source": [
    "# creating an array\n",
    "f = np.array(range(1,13))\n",
    "print(\"Original array:\")\n",
    "display(f)\n",
    "\n",
    "# using resize()\n",
    "print(\"Changed array\")\n",
    "# this will print nothing as None is returned\n",
    "display(f.resize((6, 2)))\n",
    "\t\n",
    "print(\"Original array:\")\n",
    "display(f)"
   ]
  },
  {
   "attachments": {},
   "cell_type": "markdown",
   "id": "11cca217",
   "metadata": {},
   "source": [
    "<b><h3> Combining Numpy arrays </h3></b>\n",
    "<h4>1. Concatenate"
   ]
  },
  {
   "cell_type": "code",
   "execution_count": 53,
   "id": "119d5de8",
   "metadata": {},
   "outputs": [
    {
     "name": "stdout",
     "output_type": "stream",
     "text": [
      "[[1 2]\n",
      " [5 6]]\n"
     ]
    }
   ],
   "source": [
    "\n",
    "arr1 = np.array([[1, 2], [5, 6]])\n",
    "print(arr1)"
   ]
  },
  {
   "cell_type": "code",
   "execution_count": 54,
   "id": "17b33fc3",
   "metadata": {},
   "outputs": [
    {
     "name": "stdout",
     "output_type": "stream",
     "text": [
      "[[7 8]\n",
      " [3 4]]\n"
     ]
    }
   ],
   "source": [
    "arr2 = np.array([[7, 8], [3,4]])\n",
    "print(arr2)"
   ]
  },
  {
   "cell_type": "code",
   "execution_count": 51,
   "id": "d1e72733",
   "metadata": {},
   "outputs": [
    {
     "name": "stdout",
     "output_type": "stream",
     "text": [
      "a = \n",
      " [[1 2 7 8]\n",
      " [5 6 3 4]]\n"
     ]
    }
   ],
   "source": [
    "a = np.concatenate((arr1, arr2), axis = 1)\n",
    "print(\"a = \\n\", a)"
   ]
  },
  {
   "cell_type": "code",
   "execution_count": 50,
   "id": "021ea4b6",
   "metadata": {},
   "outputs": [
    {
     "name": "stdout",
     "output_type": "stream",
     "text": [
      "b = \n",
      " [[1 2]\n",
      " [5 6]\n",
      " [7 8]\n",
      " [3 4]]\n"
     ]
    }
   ],
   "source": [
    "b = np.concatenate((arr1, arr2), axis = 0)\n",
    "print(\"b = \\n\", b)"
   ]
  },
  {
   "attachments": {},
   "cell_type": "markdown",
   "id": "f84635ab",
   "metadata": {},
   "source": [
    "<h4> 2. hstack"
   ]
  },
  {
   "cell_type": "code",
   "execution_count": 55,
   "id": "b945b8ad",
   "metadata": {},
   "outputs": [
    {
     "data": {
      "text/plain": [
       "array([[1, 2, 5, 6],\n",
       "       [3, 4, 7, 8]])"
      ]
     },
     "execution_count": 55,
     "metadata": {},
     "output_type": "execute_result"
    }
   ],
   "source": [
    "a = np.array([[1, 2],[3,4]])\n",
    "b = np.array([[5,6],[7,8]])\n",
    "\n",
    "np.hstack((a,b))"
   ]
  },
  {
   "attachments": {},
   "cell_type": "markdown",
   "id": "5689ea87",
   "metadata": {},
   "source": [
    "<h4> 3. vstack"
   ]
  },
  {
   "cell_type": "code",
   "execution_count": 57,
   "id": "d50fbf06",
   "metadata": {},
   "outputs": [
    {
     "data": {
      "text/plain": [
       "array([[1, 2],\n",
       "       [3, 4],\n",
       "       [5, 6],\n",
       "       [7, 8]])"
      ]
     },
     "execution_count": 57,
     "metadata": {},
     "output_type": "execute_result"
    }
   ],
   "source": [
    "np.vstack((a,b))"
   ]
  },
  {
   "cell_type": "code",
   "execution_count": 58,
   "id": "ae34bc0e",
   "metadata": {},
   "outputs": [
    {
     "data": {
      "text/plain": [
       "array([[[1, 5],\n",
       "        [2, 6]],\n",
       "\n",
       "       [[3, 7],\n",
       "        [4, 8]]])"
      ]
     },
     "execution_count": 58,
     "metadata": {},
     "output_type": "execute_result"
    }
   ],
   "source": [
    "a = np.array([[1, 2],[3,4]])\n",
    "b = np.array([[5,6],[7,8]])\n",
    "np.dstack((a,b))"
   ]
  }
 ],
 "metadata": {
  "kernelspec": {
   "display_name": "Python 3 (ipykernel)",
   "language": "python",
   "name": "python3"
  },
  "language_info": {
   "codemirror_mode": {
    "name": "ipython",
    "version": 3
   },
   "file_extension": ".py",
   "mimetype": "text/x-python",
   "name": "python",
   "nbconvert_exporter": "python",
   "pygments_lexer": "ipython3",
   "version": "3.10.11"
  }
 },
 "nbformat": 4,
 "nbformat_minor": 5
}
